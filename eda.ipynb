{
 "cells": [
  {
   "cell_type": "markdown",
   "id": "3f830fd1",
   "metadata": {},
   "source": [
    "**PROJECT: Online Retail Sales EDA**\n",
    "\n",
    "**PROBLEM STATEMENT**\n",
    "\n",
    "In this project, I am performing Exploratory Data Analysis (EDA) on a real-world E-commerce retail dataset. My goal is to analyze customer purchasing behavior, identify top-selling products, uncover seasonal trends, and segment customers based on their buying patterns. As part of the process, I am also handling common data preprocessing tasks such as dealing with missing values, removing duplicate entries, and managing outliers."
   ]
  },
  {
   "cell_type": "markdown",
   "id": "c3ff3754",
   "metadata": {},
   "source": [
    "**IMPORT LIBRARIES AND LOAD DATA**"
   ]
  },
  {
   "cell_type": "code",
   "execution_count": 100,
   "id": "e76f4d16",
   "metadata": {},
   "outputs": [],
   "source": [
    "import pandas as pd\n",
    "import numpy as np\n",
    "import matplotlib.pyplot as plt\n",
    "import seaborn as sns\n",
    "from datetime import datetime"
   ]
  },
  {
   "cell_type": "markdown",
   "id": "b888e2b1",
   "metadata": {},
   "source": [
    "**DATA EXPLORATION**"
   ]
  },
  {
   "cell_type": "code",
   "execution_count": 101,
   "id": "f37865fc",
   "metadata": {},
   "outputs": [
    {
     "data": {
      "text/html": [
       "<div>\n",
       "<style scoped>\n",
       "    .dataframe tbody tr th:only-of-type {\n",
       "        vertical-align: middle;\n",
       "    }\n",
       "\n",
       "    .dataframe tbody tr th {\n",
       "        vertical-align: top;\n",
       "    }\n",
       "\n",
       "    .dataframe thead th {\n",
       "        text-align: right;\n",
       "    }\n",
       "</style>\n",
       "<table border=\"1\" class=\"dataframe\">\n",
       "  <thead>\n",
       "    <tr style=\"text-align: right;\">\n",
       "      <th></th>\n",
       "      <th>Invoice</th>\n",
       "      <th>StockCode</th>\n",
       "      <th>Description</th>\n",
       "      <th>Quantity</th>\n",
       "      <th>InvoiceDate</th>\n",
       "      <th>Price</th>\n",
       "      <th>Customer ID</th>\n",
       "      <th>Country</th>\n",
       "    </tr>\n",
       "  </thead>\n",
       "  <tbody>\n",
       "    <tr>\n",
       "      <th>0</th>\n",
       "      <td>489434</td>\n",
       "      <td>85048</td>\n",
       "      <td>15CM CHRISTMAS GLASS BALL 20 LIGHTS</td>\n",
       "      <td>12</td>\n",
       "      <td>2009-12-01 07:45:00</td>\n",
       "      <td>6.95</td>\n",
       "      <td>13085.0</td>\n",
       "      <td>United Kingdom</td>\n",
       "    </tr>\n",
       "    <tr>\n",
       "      <th>1</th>\n",
       "      <td>489434</td>\n",
       "      <td>79323P</td>\n",
       "      <td>PINK CHERRY LIGHTS</td>\n",
       "      <td>12</td>\n",
       "      <td>2009-12-01 07:45:00</td>\n",
       "      <td>6.75</td>\n",
       "      <td>13085.0</td>\n",
       "      <td>United Kingdom</td>\n",
       "    </tr>\n",
       "    <tr>\n",
       "      <th>2</th>\n",
       "      <td>489434</td>\n",
       "      <td>79323W</td>\n",
       "      <td>WHITE CHERRY LIGHTS</td>\n",
       "      <td>12</td>\n",
       "      <td>2009-12-01 07:45:00</td>\n",
       "      <td>6.75</td>\n",
       "      <td>13085.0</td>\n",
       "      <td>United Kingdom</td>\n",
       "    </tr>\n",
       "    <tr>\n",
       "      <th>3</th>\n",
       "      <td>489434</td>\n",
       "      <td>22041</td>\n",
       "      <td>RECORD FRAME 7\" SINGLE SIZE</td>\n",
       "      <td>48</td>\n",
       "      <td>2009-12-01 07:45:00</td>\n",
       "      <td>2.10</td>\n",
       "      <td>13085.0</td>\n",
       "      <td>United Kingdom</td>\n",
       "    </tr>\n",
       "    <tr>\n",
       "      <th>4</th>\n",
       "      <td>489434</td>\n",
       "      <td>21232</td>\n",
       "      <td>STRAWBERRY CERAMIC TRINKET BOX</td>\n",
       "      <td>24</td>\n",
       "      <td>2009-12-01 07:45:00</td>\n",
       "      <td>1.25</td>\n",
       "      <td>13085.0</td>\n",
       "      <td>United Kingdom</td>\n",
       "    </tr>\n",
       "  </tbody>\n",
       "</table>\n",
       "</div>"
      ],
      "text/plain": [
       "  Invoice StockCode                          Description  Quantity  \\\n",
       "0  489434     85048  15CM CHRISTMAS GLASS BALL 20 LIGHTS        12   \n",
       "1  489434    79323P                   PINK CHERRY LIGHTS        12   \n",
       "2  489434    79323W                  WHITE CHERRY LIGHTS        12   \n",
       "3  489434     22041         RECORD FRAME 7\" SINGLE SIZE         48   \n",
       "4  489434     21232       STRAWBERRY CERAMIC TRINKET BOX        24   \n",
       "\n",
       "          InvoiceDate  Price  Customer ID         Country  \n",
       "0 2009-12-01 07:45:00   6.95      13085.0  United Kingdom  \n",
       "1 2009-12-01 07:45:00   6.75      13085.0  United Kingdom  \n",
       "2 2009-12-01 07:45:00   6.75      13085.0  United Kingdom  \n",
       "3 2009-12-01 07:45:00   2.10      13085.0  United Kingdom  \n",
       "4 2009-12-01 07:45:00   1.25      13085.0  United Kingdom  "
      ]
     },
     "execution_count": 101,
     "metadata": {},
     "output_type": "execute_result"
    }
   ],
   "source": [
    "# LOAD THE DATASET\n",
    "\n",
    "sales_df = pd.read_excel('src/online_retail_II.xlsx')\n",
    "sales_df.head()"
   ]
  },
  {
   "cell_type": "code",
   "execution_count": 102,
   "id": "9ea1faea",
   "metadata": {},
   "outputs": [
    {
     "name": "stdout",
     "output_type": "stream",
     "text": [
      "Data Overview:\n",
      "<class 'pandas.core.frame.DataFrame'>\n",
      "RangeIndex: 525461 entries, 0 to 525460\n",
      "Data columns (total 8 columns):\n",
      " #   Column       Non-Null Count   Dtype         \n",
      "---  ------       --------------   -----         \n",
      " 0   Invoice      525461 non-null  object        \n",
      " 1   StockCode    525461 non-null  object        \n",
      " 2   Description  522533 non-null  object        \n",
      " 3   Quantity     525461 non-null  int64         \n",
      " 4   InvoiceDate  525461 non-null  datetime64[ns]\n",
      " 5   Price        525461 non-null  float64       \n",
      " 6   Customer ID  417534 non-null  float64       \n",
      " 7   Country      525461 non-null  object        \n",
      "dtypes: datetime64[ns](1), float64(2), int64(1), object(4)\n",
      "memory usage: 32.1+ MB\n",
      "None\n",
      "\n",
      "Data Statistics:\n",
      "            Quantity                    InvoiceDate          Price  \\\n",
      "count  525461.000000                         525461  525461.000000   \n",
      "mean       10.337667  2010-06-28 11:37:36.845017856       4.688834   \n",
      "min     -9600.000000            2009-12-01 07:45:00  -53594.360000   \n",
      "25%         1.000000            2010-03-21 12:20:00       1.250000   \n",
      "50%         3.000000            2010-07-06 09:51:00       2.100000   \n",
      "75%        10.000000            2010-10-15 12:45:00       4.210000   \n",
      "max     19152.000000            2010-12-09 20:01:00   25111.090000   \n",
      "std       107.424110                            NaN     146.126914   \n",
      "\n",
      "         Customer ID  \n",
      "count  417534.000000  \n",
      "mean    15360.645478  \n",
      "min     12346.000000  \n",
      "25%     13983.000000  \n",
      "50%     15311.000000  \n",
      "75%     16799.000000  \n",
      "max     18287.000000  \n",
      "std      1680.811316  \n",
      "\n",
      "Missing values in each column:\n",
      "Invoice             0\n",
      "StockCode           0\n",
      "Description      2928\n",
      "Quantity            0\n",
      "InvoiceDate         0\n",
      "Price               0\n",
      "Customer ID    107927\n",
      "Country             0\n",
      "dtype: int64\n"
     ]
    }
   ],
   "source": [
    "# Data Overview\n",
    "print(\"Data Overview:\")\n",
    "print(sales_df.info())\n",
    "\n",
    "print(\"\\nData Statistics:\")\n",
    "print(sales_df.describe())\n",
    "\n",
    "# check missing values\n",
    "print(\"\\nMissing values in each column:\")\n",
    "print(sales_df.isnull().sum())"
   ]
  },
  {
   "cell_type": "markdown",
   "id": "782f2e90",
   "metadata": {},
   "source": [
    "**Initial Observation**\n",
    "\n",
    "- There are **525461** entries(rows/products) and **8** columns(attributes), with missing values in **Description(2928)** and **Customer ID(107927)**.\n",
    "- There are some negative and extreme values in **Quantity** and **Price** indicating outliers.\n",
    "- 3 datatypes **object**,**integer**, and **dateTime**."
   ]
  },
  {
   "cell_type": "markdown",
   "id": "df5efd88",
   "metadata": {},
   "source": [
    "**DATA CLEANING**"
   ]
  },
  {
   "cell_type": "code",
   "execution_count": null,
   "id": "003a7c01",
   "metadata": {},
   "outputs": [
    {
     "name": "stdout",
     "output_type": "stream",
     "text": [
      "\n",
      "Number of duplicate rows: 6865\n",
      "\n",
      "Number of duplicate rows after dropping: 0\n",
      "<class 'pandas.core.frame.DataFrame'>\n",
      "Index: 518596 entries, 0 to 525460\n",
      "Data columns (total 8 columns):\n",
      " #   Column       Non-Null Count   Dtype         \n",
      "---  ------       --------------   -----         \n",
      " 0   Invoice      518596 non-null  object        \n",
      " 1   StockCode    518596 non-null  object        \n",
      " 2   Description  515668 non-null  object        \n",
      " 3   Quantity     518596 non-null  int64         \n",
      " 4   InvoiceDate  518596 non-null  datetime64[ns]\n",
      " 5   Price        518596 non-null  float64       \n",
      " 6   Customer ID  410763 non-null  float64       \n",
      " 7   Country      518596 non-null  object        \n",
      "dtypes: datetime64[ns](1), float64(2), int64(1), object(4)\n",
      "memory usage: 35.6+ MB\n"
     ]
    }
   ],
   "source": [
    "# Handle Duplicates \n",
    "\n",
    "# check for duplicates \n",
    "print(f\"\\nNumber of duplicate rows: {sales_df.duplicated().sum()}\")\n",
    "\n",
    "# drop duplicates\n",
    "sales_df = sales_df.drop_duplicates()\n",
    "\n",
    "# check for duplicates again\n",
    "print(f\"\\nNumber of duplicate rows after dropping: {sales_df.duplicated().sum()}\")\\"
   ]
  },
  {
   "cell_type": "code",
   "execution_count": null,
   "id": "f6d5e084",
   "metadata": {},
   "outputs": [
    {
     "name": "stdout",
     "output_type": "stream",
     "text": [
      "Invoice\n",
      "False    508414\n",
      "True      10182\n",
      "Name: count, dtype: int64\n",
      "Original rows: 518596\n",
      "After removing cancelled orders: 508414\n",
      "After removing outliers: 504730\n"
     ]
    }
   ],
   "source": [
    "# check for cancelled orders\n",
    "print(sales_df['Invoice'].astype(str).str.startswith('C').value_counts())\n",
    "print(\"\\nOriginal rows:\", sales_df.shape[0])\n",
    "\n",
    "# Remove cancelled orders (where Invoice starts with 'C')\n",
    "sales_df = sales_df[~sales_df['Invoice'].astype(str).str.startswith('C')]\n",
    "print(\"After removing cancelled orders:\", sales_df.shape[0])\n",
    "\n",
    "# Remove negative/zero quantity and price\n",
    "sales_df = sales_df[(sales_df['Quantity'] > 0) & (sales_df['Price'] > 0)]\n",
    "print(\"After removing outliers:\", sales_df.shape[0])"
   ]
  },
  {
   "cell_type": "code",
   "execution_count": 107,
   "id": "7a980401",
   "metadata": {},
   "outputs": [
    {
     "name": "stdout",
     "output_type": "stream",
     "text": [
      "\n",
      "Missing values after handling:\n",
      "All\n",
      "Invoice             0\n",
      "StockCode           0\n",
      "Description         0\n",
      "Quantity            0\n",
      "InvoiceDate         0\n",
      "Price               0\n",
      "Customer ID    103814\n",
      "Country             0\n",
      "dtype: int64\n",
      "\n",
      "Customer-based Analysis Only - \n",
      "Invoice        0\n",
      "StockCode      0\n",
      "Description    0\n",
      "Quantity       0\n",
      "InvoiceDate    0\n",
      "Price          0\n",
      "Customer ID    0\n",
      "Country        0\n",
      "dtype: int64\n",
      "\n",
      "Total rows after cleaning(All):504730\n",
      "Total rows after cleaning(Customer-based):400916\n"
     ]
    }
   ],
   "source": [
    "# Handle missing values\n",
    "\n",
    "# Drop rows with missing descriptions\n",
    "sales_df = sales_df.dropna(subset=['Description'])\n",
    "\n",
    "# For general sales/product analysis, keeping all data \n",
    "sales_df_all = sales_df.copy()\n",
    "\n",
    "# For customer-based analysis , we drop rows where 'Customer ID' is missing\n",
    "sales_df_customers = sales_df.dropna(subset=['Customer ID'])\n",
    "\n",
    "# check again for missing values\n",
    "print(\"\\nMissing values after handling:\")\n",
    "print(f\"All\\n{sales_df_all.isnull().sum()}\")\n",
    "print(f\"\\nCustomer-based Analysis Only - \\n{sales_df_customers.isnull().sum()}\")\n",
    "\n",
    "# Check total values after cleaning\n",
    "print(f\"\\nTotal rows after cleaning(All):{sales_df_all.shape[0]}\")\n",
    "print(f\"Total rows after cleaning(Customer-based):{sales_df_customers.shape[0]}\")"
   ]
  },
  {
   "cell_type": "markdown",
   "id": "c6c58eb7",
   "metadata": {},
   "source": [
    "**INSIGHTS (AFTER CLEANING)**\n",
    "\n",
    "- **6865 duplicate rows** were identified and removed to ensure data accuracy.\n",
    "- **Cancelled orders** (Invoice starting with \"C\") totaling **10,182** rows were excluded.\n",
    "- All rows with **negative or zero Quantity and Price** were removed to eliminate invalid and outlier transactions.\n",
    "- A total of **13,866** rows were dropped during outlier and cancelled order removal, reducing the dataset to **504,730** rows.\n",
    "- Rows with missing **Description (product name)** were dropped, as product-level insights require product identification.\n",
    "- For general analysis, rows with missing **Customer ID (103,814 rows)** were retained.\n",
    "- For customer-based segmentation (like **RFM analysis**), only rows with valid **Customer IDs** were used, leaving **400,916** rows in **sales_df_customers**.\n",
    "- Final cleaned dataset:\n",
    "    - **sales_df_all** → **504,730** rows for overall product and sales trends.\n",
    "    - **sales_df_customers** → **400,916 rows** for accurate customer-level insights."
   ]
  }
 ],
 "metadata": {
  "kernelspec": {
   "display_name": "Python 3",
   "language": "python",
   "name": "python3"
  },
  "language_info": {
   "codemirror_mode": {
    "name": "ipython",
    "version": 3
   },
   "file_extension": ".py",
   "mimetype": "text/x-python",
   "name": "python",
   "nbconvert_exporter": "python",
   "pygments_lexer": "ipython3",
   "version": "3.12.5"
  }
 },
 "nbformat": 4,
 "nbformat_minor": 5
}
